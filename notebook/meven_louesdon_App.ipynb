{
 "cells": [
  {
   "cell_type": "markdown",
   "metadata": {},
   "source": [
    "# DicoCo\n",
    "\n",
    "Méven Louesdon"
   ]
  },
  {
   "cell_type": "code",
   "execution_count": 8,
   "metadata": {},
   "outputs": [],
   "source": [
    "# import necessaire à la création des widgets\n",
    "from IPython.display import display, clear_output, HTML, Markdown, Audio\n",
    "import ipywidgets as widgets\n",
    "from requests_html import HTMLSession\n",
    "from bs4 import BeautifulSoup\n",
    "import pandas as pd\n",
    "import os\n",
    "import httplib2\n",
    "import requests\n",
    "from requests_html import HTMLSession\n",
    "from bs4 import BeautifulSoup, SoupStrainer\n",
    "\n",
    #"os.chdir(r\"C:\\Users\\meven\\Documents\\Cours CNAM\\3A\\Nouveau dossier\\cnam-athon-pronunciation-main\\data\\dataframe\")"
   ]
  },
  {
   "cell_type": "code",
   "execution_count": 71,
   "metadata": {},
   "outputs": [],
   "source": [
    "buchanan = pd.read_csv(\"Buchan.csv\", sep=\";\", encoding=\"utf-8\")\n",
    "buchanan = buchanan.drop(columns =['hwd'], axis=1)"
   ]
  },
  {
   "cell_type": "code",
   "execution_count": 82,
   "metadata": {},
   "outputs": [],
   "source": [
    "#récupérer les URL des fichiers MP3\n",
    "def recupMP3(mot):\n",
    "    mp3_britain = mp3_britain = \"\"\n",
    "    session = HTMLSession()\n",
    "    response = session.get(\"https://www.ldoceonline.com/dictionary/\" + mot)\n",
    "    soup = BeautifulSoup(response.content,'html.parser')\n",
    "    finded_british = soup.findAll('span',{\"class\":\"speaker brefile fas fa-volume-up hideOnAmp\"})\n",
    "    finded_american = soup.findAll('span',{\"class\":\"speaker amefile fas fa-volume-up hideOnAmp\"}) \n",
    "    b = a = True\n",
    "    for v in finded_british :\n",
    "        if b==True: \n",
    "            mp3_britain = v.get_attribute_list('data-src-mp3')\n",
    "            b = False\n",
    "    for v in finded_american :\n",
    "        if a==True: \n",
    "            mp3_american = v.get_attribute_list('data-src-mp3')\n",
    "            a = False\n",
    "    return mp3_britain, mp3_american"
   ]
  },
  {
   "cell_type": "code",
   "execution_count": 108,
   "metadata": {},
   "outputs": [],
   "source": [
    "# definition du widget permettant de taper un texte \n",
    "textTarget = widgets.Text(\n",
    "       value=\"\",\n",
    "       description='Orthographe',\n",
    "       layout={'width': '300px'} )\n",
    "\n",
    "ipaTarget = widgets.Text(\n",
    "       value=\"\",\n",
    "       description='Prononciation',\n",
    "       layout={'width': '300px'} )\n",
    "\n",
    "# sélection d'une plage de valeurs\n",
    "rangeSyllMin = 1\n",
    "rangeSyllMax = 27\n",
    "optionsNbSyll = range(1, 27)\n",
    "wid_nbsyll = widgets.SelectionRangeSlider(\n",
    "    options=optionsNbSyll,\n",
    "    index=(min(optionsNbSyll)-1,max(optionsNbSyll)-1),\n",
    "    description='Nb syllabes',\n",
    "    disabled=False\n",
    ")\n",
    "\n",
    "# Filtre pour limiter le data frame en sorti\n",
    "nbColonne = widgets.IntSlider(\n",
    "    max = 10, value = 1,\n",
    "    description='Limit Data', \n",
    "    disabled=False\n",
    ")"
   ]
  },
  {
   "cell_type": "code",
   "execution_count": 112,
   "metadata": {},
   "outputs": [],
   "source": [
    "# définition du widget button permettant de lancer l'extraction\n",
    "button = widgets.Button(description='Chercher')\n",
    "\n",
    "buchananFiltered = buchanan[buchanan['motVedette'].str.contains(textTarget.value, na=False, regex=True)]\n",
    "buchananFiltered = buchananFiltered[buchananFiltered['ipa'].str.contains(ipaTarget.value, na=False, regex=True)]\n",
    "buchananFiltered = buchananFiltered[buchananFiltered['sizePron'].between(wid_nbsyll.value[0], wid_nbsyll.value[1], inclusive=True)]\n",
    "\n",
    "# définition du widget permettant l'affichage d'une sortie\n",
    "cambridge = widgets.Output()\n",
    "longman = widgets.Output()\n",
    "linguee = widgets.Output()\n",
    "tableau = widgets.Output()\n",
    "cam_audio_uk = widgets.Output()\n",
    "cam_audio_us = widgets.Output()\n",
    "\n",
    "def removeRegex(inputString):\n",
    "    outputstring = \"\"\n",
    "    for c in inputString:\n",
    "        if c.isalpha():\n",
    "            outputstring = outputstring + c\n",
    "    return outputstring\n",
    "\n",
    "# spécifier les actions à réaliser lors de l'appui sur le bouton\n",
    "def on_button_clicked(_):\n",
    "    \n",
    "    #tableau filtré\n",
    "    if (textTarget.value != ''): \n",
    "        buchananFiltered = buchanan[buchanan['motVedette'].str.contains(textTarget.value, na=False, regex=True)]\n",
    "        if (ipaTarget.value != ''):\n",
    "            buchananFiltered = buchananFiltered[buchananFiltered['ipa'].str.contains(ipaTarget.value, na=False, regex=True)]\n",
    "    elif (ipaTarget.value != ''):\n",
    "        buchananFiltered = buchanan[buchanan['ipa'].str.contains(ipaTarget.value, na=False, regex=True)]\n",
    "    buchananFiltered = buchananFiltered[buchananFiltered['sizePron'].between(wid_nbsyll.value[0], wid_nbsyll.value[1], inclusive=True)]\n",
    "    buchananFiltered = buchananFiltered[0:nbColonne.value]\n",
    "    \n",
    "    # récupérer le texte saisi par l'utilisateur\n",
    "    targetWord = removeRegex(textTarget.value)\n",
    "    \n",
    "    linkAudio = recupMP3(targetWord)\n",
    "                \n",
    "    with longman:\n",
    "        clear_output()        \n",
    "        urlLongman = \"https://www.ldoceonline.com/dictionary/\"\n",
    "        urlTarget = urlLongman+targetWord\n",
    "        display(HTML('<a href=\"'+urlTarget+'\" target=\"_blank\" >'+'longman : '+targetWord+'</a>'))\n",
    "\n",
    "    with linguee:\n",
    "        clear_output()\n",
    "        urlLinguee = \"https://www.linguee.fr/anglais-francais/traduction/\"\n",
    "        urlTarget = urlLinguee+targetWord+'.html'\n",
    "        display(HTML('<a href=\"'+urlTarget+'\" target=\"_blank\" >'+'linguee : '+targetWord+'</a>'))\n",
    "        \n",
    "    with cam_audio_uk:\n",
    "        clear_output()        \n",
    "        display(HTML(\"<audio controls src='str(linkAudio[0])'></audio>\"))\n",
    "    \n",
    "    with cam_audio_us:\n",
    "        clear_output()\n",
    "        display(HTML(\"<audio controls src='str(linkAudio[1])'></audio>\"))\n",
    "\n",
    "    with tableau:\n",
    "        clear_output()\n",
    "        display(buchananFiltered)\n",
    "        \n",
    "button.on_click(on_button_clicked)"
   ]
  },
  {
   "cell_type": "code",
   "execution_count": 113,
   "metadata": {},
   "outputs": [],
   "source": [
    "# définition du widget button permettant de lancer l'extraction\n",
    "button = widgets.Button(description='Démarrer')\n",
    "\n",
    "# définition du widget permettant l'affichage d'une sortie\n",
    "out1 = widgets.Output()\n",
    "out2 = widgets.Output()\n",
    "button.on_click(on_button_clicked)"
   ]
  },
  {
   "cell_type": "code",
   "execution_count": 114,
   "metadata": {
    "scrolled": false
   },
   "outputs": [
    {
     "data": {
      "application/vnd.jupyter.widget-view+json": {
       "model_id": "78a34acf4470493f8701242e316980c7",
       "version_major": 2,
       "version_minor": 0
      },
      "text/plain": [
       "VBox(children=(HBox(children=(Text(value='person', description='Orthographe', layout=Layout(width='300px')), T…"
      ]
     },
     "metadata": {},
     "output_type": "display_data"
    }
   ],
   "source": [
    "# les widgets de filtre input\n",
    "vbFiltres = widgets.HBox([textTarget,ipaTarget])\n",
    "vbFiltres2 = widgets.HBox([ wid_nbsyll,nbColonne, button])\n",
    "\n",
    "# les widgets d'output\n",
    "vbOuts = widgets.VBox([cambridge,longman,linguee, tableau])\n",
    "\n",
    "#boucle à corriger\n",
    "for m in buchananFiltered['motVedette'][0:3]:\n",
    "    labelUK = widgets.Label(value=\"Britain : \" + textTarget.value)\n",
    "    labelUS = widgets.Label(value=\"American : \" + textTarget.value)\n",
    "    vAudios = widgets.HBox([widgets.VBox([labelUK,cam_audio_uk]), widgets.VBox([labelUS, cam_audio_us])])\n",
    "\n",
    "hbAllWidgets = widgets.VBox([vbFiltres,vbFiltres2,vbOuts, vAudios])\n",
    "hbAllWidgets"
   ]
  }
 ],
 "metadata": {
  "kernelspec": {
   "display_name": "Python 3",
   "language": "python",
   "name": "python3"
  },
  "language_info": {
   "codemirror_mode": {
    "name": "ipython",
    "version": 3
   },
   "file_extension": ".py",
   "mimetype": "text/x-python",
   "name": "python",
   "nbconvert_exporter": "python",
   "pygments_lexer": "ipython3",
   "version": "3.8.5"
  }
 },
 "nbformat": 4,
 "nbformat_minor": 4
}
