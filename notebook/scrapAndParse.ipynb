{
 "cells": [
  {
   "cell_type": "markdown",
   "metadata": {},
   "source": [
    "# Scrap and Parse\n"
   ]
  },
  {
   "cell_type": "markdown",
   "metadata": {},
   "source": [
    "## Scraping\n"
   ]
  },
  {
   "cell_type": "code",
   "execution_count": 5,
   "metadata": {},
   "outputs": [],
   "source": [
    "import requests"
   ]
  },
  {
   "cell_type": "code",
   "execution_count": 6,
   "metadata": {},
   "outputs": [],
   "source": [
    "urlTarget = \"https://transcrire.huma-num.fr/scripto/8/105/10286\""
   ]
  },
  {
   "cell_type": "code",
   "execution_count": 7,
   "metadata": {},
   "outputs": [],
   "source": [
    "response = requests.get(urlTarget)"
   ]
  },
  {
   "cell_type": "code",
   "execution_count": 9,
   "metadata": {},
   "outputs": [
    {
     "data": {
      "text/plain": [
       "'!DOCTYPE html><html lang=\"fr\"><head>\\n    <meta charset=\"utf-8\">\\n<meta name=\"viewport\" content=\"width&#x3D;device-width,&#x20;initial-scale&#x3D;1\">\\n<meta name=\"description\" content=\"Transcrire&#x20;vous&#x20;invite&#x20;&#xE0;&#x20;interagir&#x20;avec&#x20;les&#x20;collections&#x20;num&#xE9;riques&#x20;de&#x20;biblioth&#xE8;ques&#x20;de&#x20;recherches&#x20;en&#x20;sciences&#x20;humaines&#x20;et&#x20;sociales.\">    <title>Scripto · Transcrire</title>    <link href=\"&#x2F;modules&#x2F;Scripto&#x2F;asset&#x2F;vendor&#x2F;featherlight&#x2F;featherlight.min.css&#x3F;v&#x3D;1.3.0\" media=\"screen\" rel=\"stylesheet\" type=\"text&#x2F;css\">\\n<link href=\"https&#x3A;&#x2F;&#x2F;use.fontawesome.com&#x2F;releases&#x2F;v5.0.9&#x2F;css&#x2F;all.css\" media=\"screen\" rel=\"stylesheet\" type=\"text&#x2F;css\">\\n<link href=\"&#x2F;themes&#x2F;transcrire&#x2F;asset&#x2F;css&#x2F;scripto.css&#x3F;v&#x3D;\" media=\"screen\" rel=\"stylesheet\" type=\"text&#x2F;css\">\\n<link href=\"&#x2F;themes&#x2F;transcrire&#x2F;asset&#x2F;c'"
      ]
     },
     "execution_count": 9,
     "metadata": {},
     "output_type": "execute_result"
    }
   ],
   "source": [
    "## Obtention du code html\n",
    "response.text[1:1000]"
   ]
  },
  {
   "cell_type": "code",
   "execution_count": 5,
   "metadata": {},
   "outputs": [
    {
     "data": {
      "text/plain": [
       "<Response [200]>"
      ]
     },
     "execution_count": 5,
     "metadata": {},
     "output_type": "execute_result"
    }
   ],
   "source": [
    "response"
   ]
  },
  {
   "cell_type": "code",
   "execution_count": 6,
   "metadata": {},
   "outputs": [
    {
     "data": {
      "text/plain": [
       "200"
      ]
     },
     "execution_count": 6,
     "metadata": {},
     "output_type": "execute_result"
    }
   ],
   "source": [
    "## Obtention du statut code -- 200 = résultat fourni\n",
    "response.status_code"
   ]
  },
  {
   "cell_type": "code",
   "execution_count": 7,
   "metadata": {},
   "outputs": [
    {
     "data": {
      "text/plain": [
       "{'date': 'Tue, 11 Jan 2022 08:04:39 GMT', 'server': 'Apache', 'x-powered-by': 'PHP/7.4.14', 'expires': 'Thu, 19 Nov 1981 08:52:00 GMT', 'cache-control': 'no-store, no-cache, must-revalidate', 'pragma': 'no-cache', 'set-cookie': 'b057a17688e41f8bb5423d4111651bbc=1jje9eljd7mmdg3f0cpgr397nk; path=/; HttpOnly', 'upgrade': 'h2', 'connection': 'Upgrade', 'vary': 'Accept-Encoding', 'content-encoding': 'gzip', 'content-length': '5382', 'content-type': 'text/html; charset=UTF-8'}"
      ]
     },
     "execution_count": 7,
     "metadata": {},
     "output_type": "execute_result"
    }
   ],
   "source": [
    "response.headers"
   ]
  },
  {
   "cell_type": "code",
   "execution_count": 8,
   "metadata": {},
   "outputs": [
    {
     "data": {
      "text/plain": [
       "'text/html; charset=UTF-8'"
      ]
     },
     "execution_count": 8,
     "metadata": {},
     "output_type": "execute_result"
    }
   ],
   "source": [
    "response.headers['content-type']"
   ]
  },
  {
   "cell_type": "markdown",
   "metadata": {},
   "source": [
    "## Parsing"
   ]
  },
  {
   "cell_type": "code",
   "execution_count": 11,
   "metadata": {},
   "outputs": [],
   "source": [
    "from bs4 import BeautifulSoup"
   ]
  },
  {
   "cell_type": "code",
   "execution_count": 12,
   "metadata": {},
   "outputs": [],
   "source": [
    "soup = BeautifulSoup(response.text,'html.parser')\n",
    "#soup"
   ]
  },
  {
   "cell_type": "code",
   "execution_count": 13,
   "metadata": {},
   "outputs": [],
   "source": [
    "souplettesBody = soup.find('body')\n",
    "#souplettesBody"
   ]
  },
  {
   "cell_type": "code",
   "execution_count": 14,
   "metadata": {},
   "outputs": [],
   "source": [
    "soupletteAside = souplettesBody.find('aside')\n",
    "#soupletteAside"
   ]
  },
  {
   "cell_type": "code",
   "execution_count": 15,
   "metadata": {},
   "outputs": [
    {
     "name": "stdout",
     "output_type": "stream",
     "text": [
      "Titre\n",
      "Créateur\n",
      "Description\n",
      "Date\n",
      "Format\n",
      "Identifiant\n",
      "Source\n",
      "Langue\n"
     ]
    }
   ],
   "source": [
    "finded = soupletteAside.findAll('div',{\"class\":\"property\"})\n",
    "\n",
    "for v in finded:\n",
    "    #print(v)\n",
    "    #print(\">>>>>\",v.find('h4').text)\n",
    "    vH4 = v.find('h4').text.strip()\n",
    "    print(vH4)\n"
   ]
  },
  {
   "cell_type": "code",
   "execution_count": 14,
   "metadata": {},
   "outputs": [
    {
     "name": "stdout",
     "output_type": "stream",
     "text": [
      "Identifiant\n",
      "<div class=\"value\" lang=\"\">\n",
      "                                FRAD86_16J3_37_088_8927.jpg            </div>\n",
      "\n",
      "                                FRAD86_16J3_37_088_8927.jpg            \n",
      "FRAD86_16J3_37_088_8927.jpg\n"
     ]
    }
   ],
   "source": [
    "for v in finded:\n",
    "    vH4 = v.find('h4').text.strip()\n",
    "    if \"Identifiant\" in vH4:\n",
    "        print(vH4)\n",
    "        \n",
    "        soupletteV = v.find('div',{\"class\":\"value\"})\n",
    "        print(soupletteV)\n",
    "        print(soupletteV.text)\n",
    "        \n",
    "        vJPG = soupletteV.text.strip()\n",
    "        print(vJPG)\n"
   ]
  },
  {
   "cell_type": "code",
   "execution_count": 15,
   "metadata": {},
   "outputs": [
    {
     "name": "stdout",
     "output_type": "stream",
     "text": [
      "FRAD86_16J3_37_088_8927.jpg\n"
     ]
    }
   ],
   "source": [
    "for v in finded:\n",
    "    vH4 = v.find('h4').text.strip()\n",
    "    if \"Identifiant\" in vH4:\n",
    "     \n",
    "        soupletteV = v.find('div',{\"class\":\"value\"})\n",
    "        vJPG = soupletteV.text.strip()\n",
    "        print(vJPG)"
   ]
  },
  {
   "cell_type": "markdown",
   "metadata": {},
   "source": [
    "## list url"
   ]
  },
  {
   "cell_type": "code",
   "execution_count": 17,
   "metadata": {},
   "outputs": [
    {
     "data": {
      "text/plain": [
       "<main class=\"wrapper__content\">\n",
       "<div class=\"media render\">\n",
       "<div class=\"image\" id=\"panzoom-container\">\n",
       "<div class=\"zoom-controls\">\n",
       "<button aria-label=\"Zoomer\" id=\"panzoom-zoom-in\" title=\"Zoomer\" type=\"button\"><i class=\"fas fa-search-plus\"></i></button>\n",
       "<button aria-label=\"Dézoomer\" id=\"panzoom-zoom-out\" title=\"Dézoomer\" type=\"button\"><i class=\"fas fa-search-minus\"></i></button>\n",
       "<button aria-label=\"Tourner à droite\" id=\"panzoom-rotate-right\" title=\"Tourner à droite\" type=\"button\"><i class=\"fas fa-undo fa-flip-horizontal\"></i></button>\n",
       "<button aria-label=\"Tourner à gauche\" id=\"panzoom-rotate-left\" title=\"Tourner à gauche\" type=\"button\"><i class=\"fas fa-undo\"></i></button>\n",
       "<button id=\"panzoom-reset\" type=\"button\">Réinitialiser</button>\n",
       "</div>\n",
       "<div class=\"media-render\" id=\"panzoom\">\n",
       "<img id=\"panzoom-img\" src=\"https://transcrire.huma-num.fr/files/original/d95b2e4e8f88f12b997fb17e1c4745dbb0347d05.jpg\"/>\n",
       "</div>\n",
       "</div>\n",
       "</div>\n",
       "</main>"
      ]
     },
     "execution_count": 17,
     "metadata": {},
     "output_type": "execute_result"
    }
   ],
   "source": [
    "urlTargetCarnet = \"https://transcrire.huma-num.fr/scripto/1/20/media\"\n",
    "responseCarnet = requests.get(urlTargetCarnet)   \n",
    "    \n",
    "soupCarnet = BeautifulSoup(responseCarnet.text,'html.parser')\n",
    "souplettesContent = soup.find('main',{\"class\":\"wrapper__content\"})\n",
    "souplettesContent\n",
    "\n",
    "\n",
    "#finded = soupCarnet.findAll('div',{\"class\":\"title-meta\"})\n",
    "#print(finded)\n",
    "#for v in finded:\n",
    "#    print(v.text)\n",
    "    "
   ]
  },
  {
   "cell_type": "code",
   "execution_count": 19,
   "metadata": {},
   "outputs": [],
   "source": [
    "finded = souplettesContent.findAll(\"li\",{\"class\":\"thumbnail-links__item\"})"
   ]
  },
  {
   "cell_type": "code",
   "execution_count": 21,
   "metadata": {},
   "outputs": [],
   "source": [
    "for v in finded:\n",
    "    a = v.find('a')\n",
    "    print(a['href'])"
   ]
  },
  {
   "cell_type": "code",
   "execution_count": 22,
   "metadata": {},
   "outputs": [
    {
     "data": {
      "text/plain": [
       "200"
      ]
     },
     "execution_count": 22,
     "metadata": {},
     "output_type": "execute_result"
    }
   ],
   "source": [
    "targetCarnet = \"https://transcrire.huma-num.fr/scripto/1/20/media?sort_by=position&sort_order=asc&page=33\"\n",
    "\n",
    "responseC = requests.get(targetCarnet)\n",
    "\n",
    "responseC.status_code"
   ]
  },
  {
   "cell_type": "code",
   "execution_count": null,
   "metadata": {},
   "outputs": [],
   "source": []
  }
 ],
 "metadata": {
  "kernelspec": {
   "display_name": "Python 3",
   "language": "python",
   "name": "python3"
  },
  "language_info": {
   "codemirror_mode": {
    "name": "ipython",
    "version": 3
   },
   "file_extension": ".py",
   "mimetype": "text/x-python",
   "name": "python",
   "nbconvert_exporter": "python",
   "pygments_lexer": "ipython3",
   "version": "3.8.5"
  }
 },
 "nbformat": 4,
 "nbformat_minor": 4
}
