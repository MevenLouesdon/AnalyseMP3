{
 "cells": [
  {
   "cell_type": "code",
   "execution_count": 3,
   "metadata": {},
   "outputs": [],
   "source": [
    "import httplib2\n",
    "import requests\n",
    "from requests_html import HTMLSession\n",
    "from bs4 import BeautifulSoup, SoupStrainer\n",
    "session = HTMLSession()\n"
   ]
  },
  {
   "cell_type": "code",
   "execution_count": 2,
   "metadata": {},
   "outputs": [],
   "source": [
    "response = session.get(\"https://www.ldoceonline.com/dictionary/flower\")\n",
    "html_doc = response.content\n",
    "#html_doc[1:1000]"
   ]
  },
  {
   "cell_type": "code",
   "execution_count": 4,
   "metadata": {},
   "outputs": [],
   "source": [
    "def recupMP3(mot):\n",
    "    response = session.get(\"https://www.ldoceonline.com/dictionary/\" + mot)\n",
    "    soup = BeautifulSoup(response.content,'html.parser')\n",
    "    finded_british = soup.findAll('span',{\"class\":\"speaker brefile fas fa-volume-up hideOnAmp\"})\n",
    "    finded_american = soup.findAll('span',{\"class\":\"speaker amefile fas fa-volume-up hideOnAmp\"}) \n",
    "    b = a = True\n",
    "    for v in finded_british :\n",
    "        if b: \n",
    "            mp3_britain = v.get_attribute_list('data-src-mp3')\n",
    "            b = False\n",
    "    for v in finded_american :\n",
    "        if a: \n",
    "            mp3_american = v.get_attribute_list('data-src-mp3')\n",
    "            a = False\n",
    "    print(\"MP3 Américain : \" + str(mp3_american))\n",
    "    print(\"MP3 Anglais : \" + str(mp3_britain))\n",
    "    return mp3_britain, mp3_american"
   ]
  },
  {
   "cell_type": "code",
   "execution_count": 5,
   "metadata": {},
   "outputs": [
    {
     "name": "stdout",
     "output_type": "stream",
     "text": [
      "MP3 Américain : ['https://www.ldoceonline.com/media/english/ameProns/crocodile.mp3?version=1.2.42']\n",
      "MP3 Anglais : ['https://www.ldoceonline.com/media/english/breProns/crocodile0205.mp3?version=1.2.42']\n"
     ]
    },
    {
     "data": {
      "text/plain": [
       "(['https://www.ldoceonline.com/media/english/breProns/crocodile0205.mp3?version=1.2.42'],\n",
       " ['https://www.ldoceonline.com/media/english/ameProns/crocodile.mp3?version=1.2.42'])"
      ]
     },
     "execution_count": 5,
     "metadata": {},
     "output_type": "execute_result"
    }
   ],
   "source": [
    "recupMP3(\"crocodile\")"
   ]
  }
 ],
 "metadata": {
  "kernelspec": {
   "display_name": "Python 3",
   "language": "python",
   "name": "python3"
  },
  "language_info": {
   "codemirror_mode": {
    "name": "ipython",
    "version": 3
   },
   "file_extension": ".py",
   "mimetype": "text/x-python",
   "name": "python",
   "nbconvert_exporter": "python",
   "pygments_lexer": "ipython3",
   "version": "3.8.5"
  }
 },
 "nbformat": 4,
 "nbformat_minor": 4
}
